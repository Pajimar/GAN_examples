{
 "cells": [
  {
   "cell_type": "markdown",
   "metadata": {},
   "source": [
    "**Tutorial** https://www.analyticsvidhya.com/blog/2017/06/introductory-generative-adversarial-networks-gans/"
   ]
  },
  {
   "cell_type": "markdown",
   "metadata": {},
   "source": [
    "Special Library (keras_adversarial):\n",
    "    \n",
    "    git clone https://github.com/bstriner/keras_adversarial.git\n",
    "    cd keras_adversarial\n",
    "    python setup.py install\n",
    "    \n",
    "More info in : https://github.com/bstriner/keras-adversarial#installation"
   ]
  },
  {
   "cell_type": "markdown",
   "metadata": {},
   "source": [
    "The data set used for this problem is from the populat MNIST data set. Developed by Yann LeCun, Corina Cortes and Christopher Burger for evaluating machine learning model on the handwritten digit classification problem. It is a widely used data set in the machine learning community. For more details about the data set, read here http://bit.ly/1REjJgL\n",
    "You can download such dataset from : https://datahack.analyticsvidhya.com/contest/practice-problem-identify-the-digits/ (where train link has 'train.csv' and digit images for train and test data, and test link has \"test.csv\" having images name, need to predict the image label). \n",
    "\n",
    "Create a 'Data' folder in working directory. In this folder \n"
   ]
  },
  {
   "cell_type": "code",
   "execution_count": 1,
   "metadata": {},
   "outputs": [
    {
     "name": "stdout",
     "output_type": "stream",
     "text": [
      "Populating the interactive namespace from numpy and matplotlib\n"
     ]
    },
    {
     "name": "stderr",
     "output_type": "stream",
     "text": [
      "Using TensorFlow backend.\n"
     ]
    }
   ],
   "source": [
    "# import modules\n",
    "%pylab inline\n",
    "\n",
    "import os\n",
    "import numpy as np\n",
    "import pandas as pd\n",
    "from scipy.misc import imread\n",
    "\n",
    "import keras\n",
    "from keras.models import Sequential\n",
    "from keras.layers import Dense, Flatten, Reshape, InputLayer\n",
    "from keras.regularizers import L1L2"
   ]
  },
  {
   "cell_type": "code",
   "execution_count": 2,
   "metadata": {},
   "outputs": [],
   "source": [
    "# to stop potential randomness\n",
    "seed = 128\n",
    "rng = np.random.RandomState(seed) # creates pseudo-random number generator object "
   ]
  },
  {
   "cell_type": "code",
   "execution_count": 3,
   "metadata": {},
   "outputs": [],
   "source": [
    "# set path\n",
    "root_dir = os.path.abspath('.') # working directory\n",
    "data_dir = os.path.join(root_dir, 'Data') # ..\\Data"
   ]
  },
  {
   "cell_type": "code",
   "execution_count": 4,
   "metadata": {},
   "outputs": [
    {
     "name": "stderr",
     "output_type": "stream",
     "text": [
      "c:\\users\\media\\appdata\\local\\programs\\python\\python35\\lib\\site-packages\\ipykernel_launcher.py:8: DeprecationWarning: `imread` is deprecated!\n",
      "`imread` is deprecated in SciPy 1.0.0, and will be removed in 1.2.0.\n",
      "Use ``imageio.imread`` instead.\n",
      "  \n"
     ]
    }
   ],
   "source": [
    "# load data\n",
    "train = pd.read_csv(os.path.join(data_dir, 'Train', 'train.csv')) # ..\\Data\\Train\\train.csv\n",
    "test = pd.read_csv(os.path.join(data_dir, 'test.csv')) # ../Data/test.csv\n",
    "\n",
    "temp = []\n",
    "for img_name in train.filename:\n",
    "    image_path = os.path.join(data_dir, 'Train', 'Images', 'train', img_name) # ../Data/Train/Images/train/img_name\n",
    "    img = imread(image_path, flatten=True)\n",
    "    img = img.astype('float32')\n",
    "    temp.append(img)\n",
    "    \n",
    "train_x = np.stack(temp)\n",
    "\n",
    "train_x = train_x / 255."
   ]
  },
  {
   "cell_type": "code",
   "execution_count": 5,
   "metadata": {},
   "outputs": [
    {
     "name": "stderr",
     "output_type": "stream",
     "text": [
      "c:\\users\\media\\appdata\\local\\programs\\python\\python35\\lib\\site-packages\\ipykernel_launcher.py:5: DeprecationWarning: `imread` is deprecated!\n",
      "`imread` is deprecated in SciPy 1.0.0, and will be removed in 1.2.0.\n",
      "Use ``imageio.imread`` instead.\n",
      "  \"\"\"\n"
     ]
    },
    {
     "data": {
      "image/png": "[encoded data removed]",
      "text/plain": [
       "<matplotlib.figure.Figure at 0x2001f0673c8>"
      ]
     },
     "metadata": {},
     "output_type": "display_data"
    }
   ],
   "source": [
    "# print image\n",
    "img_name = rng.choice(train.filename)\n",
    "filepath = os.path.join(data_dir, 'Train', 'Images', 'train', img_name)\n",
    "\n",
    "img = imread(filepath, flatten=True)\n",
    "\n",
    "pylab.imshow(img, cmap='gray')\n",
    "pylab.axis('off')\n",
    "pylab.show()"
   ]
  },
  {
   "cell_type": "code",
   "execution_count": 6,
   "metadata": {},
   "outputs": [],
   "source": [
    "#define variables\n",
    "g_input_shape = 100 \n",
    "d_input_shape = (28, 28) \n",
    "hidden_1_num_units = 500 \n",
    "hidden_2_num_units = 500 \n",
    "g_output_num_units = 784 \n",
    "d_output_num_units = 1 \n",
    "epochs = 25 \n",
    "batch_size = 128"
   ]
  },
  {
   "cell_type": "code",
   "execution_count": 7,
   "metadata": {},
   "outputs": [],
   "source": [
    "# generator\n",
    "model_1 = Sequential([\n",
    "    Dense(units=hidden_1_num_units, input_dim=g_input_shape, activation='relu', kernel_regularizer=L1L2(1e-5, 1e-5)),\n",
    "\n",
    "    Dense(units=hidden_2_num_units, activation='relu', kernel_regularizer=L1L2(1e-5, 1e-5)),\n",
    "        \n",
    "    Dense(units=g_output_num_units, activation='sigmoid', kernel_regularizer=L1L2(1e-5, 1e-5)),\n",
    "    \n",
    "    Reshape(d_input_shape), # the output from generator is the input of discriminator\n",
    "])\n",
    "\n",
    "# discriminator\n",
    "model_2 = Sequential([\n",
    "    InputLayer(input_shape=d_input_shape),\n",
    "    \n",
    "    Flatten(),\n",
    "        \n",
    "    Dense(units=hidden_1_num_units, activation='relu', kernel_regularizer=L1L2(1e-5, 1e-5)),\n",
    "\n",
    "    Dense(units=hidden_2_num_units, activation='relu', kernel_regularizer=L1L2(1e-5, 1e-5)),\n",
    "        \n",
    "    Dense(units=d_output_num_units, activation='sigmoid', kernel_regularizer=L1L2(1e-5, 1e-5)),\n",
    "])"
   ]
  },
  {
   "cell_type": "code",
   "execution_count": 8,
   "metadata": {},
   "outputs": [
    {
     "name": "stdout",
     "output_type": "stream",
     "text": [
      "_________________________________________________________________\n",
      "Layer (type)                 Output Shape              Param #   \n",
      "=================================================================\n",
      "dense_1 (Dense)              (None, 500)               50500     \n",
      "_________________________________________________________________\n",
      "dense_2 (Dense)              (None, 500)               250500    \n",
      "_________________________________________________________________\n",
      "dense_3 (Dense)              (None, 784)               392784    \n",
      "_________________________________________________________________\n",
      "reshape_1 (Reshape)          (None, 28, 28)            0         \n",
      "=================================================================\n",
      "Total params: 693,784\n",
      "Trainable params: 693,784\n",
      "Non-trainable params: 0\n",
      "_________________________________________________________________\n"
     ]
    }
   ],
   "source": [
    "model_1.summary()"
   ]
  },
  {
   "cell_type": "code",
   "execution_count": 9,
   "metadata": {},
   "outputs": [
    {
     "name": "stdout",
     "output_type": "stream",
     "text": [
      "_________________________________________________________________\n",
      "Layer (type)                 Output Shape              Param #   \n",
      "=================================================================\n",
      "input_1 (InputLayer)         (None, 28, 28)            0         \n",
      "_________________________________________________________________\n",
      "flatten_1 (Flatten)          (None, 784)               0         \n",
      "_________________________________________________________________\n",
      "dense_4 (Dense)              (None, 500)               392500    \n",
      "_________________________________________________________________\n",
      "dense_5 (Dense)              (None, 500)               250500    \n",
      "_________________________________________________________________\n",
      "dense_6 (Dense)              (None, 1)                 501       \n",
      "=================================================================\n",
      "Total params: 643,501\n",
      "Trainable params: 643,501\n",
      "Non-trainable params: 0\n",
      "_________________________________________________________________\n"
     ]
    }
   ],
   "source": [
    "model_2.summary()"
   ]
  },
  {
   "cell_type": "code",
   "execution_count": 10,
   "metadata": {},
   "outputs": [],
   "source": [
    "from keras_adversarial import AdversarialModel, simple_gan, gan_targets\n",
    "from keras_adversarial import AdversarialOptimizerSimultaneous, normal_latent_sampling"
   ]
  },
  {
   "cell_type": "code",
   "execution_count": 13,
   "metadata": {},
   "outputs": [
    {
     "name": "stdout",
     "output_type": "stream",
     "text": [
      "Epoch 1/100\n",
      "49000/49000 [==============================] - 31s 640us/step - loss: 18.4289 - player_0_loss: 17.5557 - player_0_yfake_loss: 5.1670 - player_0_yreal_loss: 11.5581 - player_1_loss: 0.8732 - player_1_yfake_loss: 0.0192 - player_1_yreal_loss: 0.0233\n",
      "Epoch 2/100\n",
      "49000/49000 [==============================] - 29s 593us/step - loss: 18.2109 - player_0_loss: 17.4625 - player_0_yfake_loss: 5.3049 - player_0_yreal_loss: 11.4320 - player_1_loss: 0.7485 - player_1_yfake_loss: 0.0100 - player_1_yreal_loss: 0.0128\n",
      "Epoch 3/100\n",
      "49000/49000 [==============================] - 29s 591us/step - loss: 18.5183 - player_0_loss: 17.8178 - player_0_yfake_loss: 5.4495 - player_0_yreal_loss: 11.6852 - player_1_loss: 0.7005 - player_1_yfake_loss: 0.0074 - player_1_yreal_loss: 0.0099\n",
      "Epoch 4/100\n",
      "49000/49000 [==============================] - 29s 595us/step - loss: 19.6631 - player_0_loss: 18.9459 - player_0_yfake_loss: 5.5524 - player_0_yreal_loss: 12.6939 - player_1_loss: 0.7172 - player_1_yfake_loss: 0.0072 - player_1_yreal_loss: 0.0104\n",
      "Epoch 5/100\n",
      "49000/49000 [==============================] - 30s 621us/step - loss: 19.8481 - player_0_loss: 19.1102 - player_0_yfake_loss: 5.5914 - player_0_yreal_loss: 12.7994 - player_1_loss: 0.7379 - player_1_yfake_loss: 0.0078 - player_1_yreal_loss: 0.0108\n",
      "Epoch 6/100\n",
      "49000/49000 [==============================] - 28s 568us/step - loss: 19.7790 - player_0_loss: 19.0378 - player_0_yfake_loss: 5.5148 - player_0_yreal_loss: 12.8046 - player_1_loss: 0.7412 - player_1_yfake_loss: 0.0092 - player_1_yreal_loss: 0.0135\n",
      "Epoch 7/100\n",
      "49000/49000 [==============================] - 27s 554us/step - loss: 20.4002 - player_0_loss: 19.6514 - player_0_yfake_loss: 5.7759 - player_0_yreal_loss: 13.1451 - player_1_loss: 0.7488 - player_1_yfake_loss: 0.0070 - player_1_yreal_loss: 0.0113s - loss: 20.3371 - player_0_loss: 19.5898 - player_0_yfake_loss: 5.7505 - player_0_yreal_loss: 13.1106 - player_1_loss: 0.7473 - player_1_yfake_loss: 0.0071 - playe\n",
      "Epoch 8/100\n",
      "49000/49000 [==============================] - 30s 613us/step - loss: 20.5637 - player_0_loss: 19.7884 - player_0_yfake_loss: 5.7181 - player_0_yreal_loss: 13.3173 - player_1_loss: 0.7753 - player_1_yfake_loss: 0.0084 - player_1_yreal_loss: 0.0139\n",
      "Epoch 9/100\n",
      "49000/49000 [==============================] - 30s 604us/step - loss: 20.5997 - player_0_loss: 19.8443 - player_0_yfake_loss: 5.7085 - player_0_yreal_loss: 13.4024 - player_1_loss: 0.7554 - player_1_yfake_loss: 0.0083 - player_1_yreal_loss: 0.0137\n",
      "Epoch 10/100\n",
      "49000/49000 [==============================] - 29s 597us/step - loss: 20.7359 - player_0_loss: 19.9716 - player_0_yfake_loss: 5.7880 - player_0_yreal_loss: 13.4420 - player_1_loss: 0.7643 - player_1_yfake_loss: 0.0083 - player_1_yreal_loss: 0.0144\n",
      "Epoch 11/100\n",
      "49000/49000 [==============================] - 29s 599us/step - loss: 21.4281 - player_0_loss: 20.5943 - player_0_yfake_loss: 6.2753 - player_0_yreal_loss: 13.5150 - player_1_loss: 0.8338 - player_1_yfake_loss: 0.0100 - player_1_yreal_loss: 0.0198\n",
      "Epoch 12/100\n",
      "49000/49000 [==============================] - 29s 597us/step - loss: 20.5836 - player_0_loss: 19.7549 - player_0_yfake_loss: 5.8498 - player_0_yreal_loss: 13.1014 - player_1_loss: 0.8287 - player_1_yfake_loss: 0.0090 - player_1_yreal_loss: 0.0160\n",
      "Epoch 13/100\n",
      "49000/49000 [==============================] - 30s 604us/step - loss: 20.8442 - player_0_loss: 19.9786 - player_0_yfake_loss: 5.9656 - player_0_yreal_loss: 13.1833 - player_1_loss: 0.8656 - player_1_yfake_loss: 0.0123 - player_1_yreal_loss: 0.0235\n",
      "Epoch 14/100\n",
      "49000/49000 [==============================] - 30s 620us/step - loss: 20.6445 - player_0_loss: 19.7824 - player_0_yfake_loss: 5.8923 - player_0_yreal_loss: 13.0574 - player_1_loss: 0.8622 - player_1_yfake_loss: 0.0106 - player_1_yreal_loss: 0.0189\n",
      "Epoch 15/100\n",
      "49000/49000 [==============================] - 30s 607us/step - loss: 20.3841 - player_0_loss: 19.4833 - player_0_yfake_loss: 5.9167 - player_0_yreal_loss: 12.6974 - player_1_loss: 0.9008 - player_1_yfake_loss: 0.0120 - player_1_yreal_loss: 0.0196\n",
      "Epoch 16/100\n",
      "49000/49000 [==============================] - 28s 581us/step - loss: 20.0874 - player_0_loss: 19.1907 - player_0_yfake_loss: 5.6189 - player_0_yreal_loss: 12.7103 - player_1_loss: 0.8967 - player_1_yfake_loss: 0.0136 - player_1_yreal_loss: 0.0216\n",
      "Epoch 17/100\n",
      "49000/49000 [==============================] - 30s 622us/step - loss: 20.5763 - player_0_loss: 19.6927 - player_0_yfake_loss: 5.8181 - player_0_yreal_loss: 13.0201 - player_1_loss: 0.8836 - player_1_yfake_loss: 0.0113 - player_1_yreal_loss: 0.0177\n",
      "Epoch 18/100\n",
      "49000/49000 [==============================] - 30s 611us/step - loss: 20.7422 - player_0_loss: 19.8422 - player_0_yfake_loss: 5.9201 - player_0_yreal_loss: 13.0565 - player_1_loss: 0.9000 - player_1_yfake_loss: 0.0121 - player_1_yreal_loss: 0.0223\n",
      "Epoch 19/100\n",
      "49000/49000 [==============================] - 30s 609us/step - loss: 21.1031 - player_0_loss: 20.2023 - player_0_yfake_loss: 6.0689 - player_0_yreal_loss: 13.2576 - player_1_loss: 0.9008 - player_1_yfake_loss: 0.0096 - player_1_yreal_loss: 0.0154\n",
      "Epoch 20/100\n",
      "49000/49000 [==============================] - 30s 611us/step - loss: 20.2564 - player_0_loss: 19.3507 - player_0_yfake_loss: 5.5836 - player_0_yreal_loss: 12.9025 - player_1_loss: 0.9057 - player_1_yfake_loss: 0.0156 - player_1_yreal_loss: 0.0256\n",
      "Epoch 21/100\n",
      "49000/49000 [==============================] - 30s 617us/step - loss: 20.4619 - player_0_loss: 19.5513 - player_0_yfake_loss: 5.7310 - player_0_yreal_loss: 12.9459 - player_1_loss: 0.9105 - player_1_yfake_loss: 0.0137 - player_1_yreal_loss: 0.0224\n",
      "Epoch 22/100\n",
      "49000/49000 [==============================] - 29s 600us/step - loss: 20.4670 - player_0_loss: 19.5260 - player_0_yfake_loss: 5.8680 - player_0_yreal_loss: 12.7640 - player_1_loss: 0.9410 - player_1_yfake_loss: 0.0171 - player_1_yreal_loss: 0.0298\n",
      "Epoch 23/100\n",
      "49000/49000 [==============================] - 28s 577us/step - loss: 20.3489 - player_0_loss: 19.3944 - player_0_yfake_loss: 5.7659 - player_0_yreal_loss: 12.7138 - player_1_loss: 0.9545 - player_1_yfake_loss: 0.0146 - player_1_yreal_loss: 0.0251\n",
      "Epoch 24/100\n",
      "49000/49000 [==============================] - 28s 572us/step - loss: 20.1971 - player_0_loss: 19.2176 - player_0_yfake_loss: 5.6788 - player_0_yreal_loss: 12.6150 - player_1_loss: 0.9795 - player_1_yfake_loss: 0.0212 - player_1_yreal_loss: 0.0345\n",
      "Epoch 25/100\n",
      "49000/49000 [==============================] - 27s 558us/step - loss: 21.4399 - player_0_loss: 20.4447 - player_0_yfake_loss: 6.1966 - player_0_yreal_loss: 13.2966 - player_1_loss: 0.9952 - player_1_yfake_loss: 0.0155 - player_1_yreal_loss: 0.0282s - loss: 21.4940 - player_0_loss: 20.4993 - player_0_yfake_loss: 6.2310 - player_0_yreal_loss: 13.3173 - player_1_loss: 0.99\n",
      "Epoch 26/100\n",
      "49000/49000 [==============================] - 27s 560us/step - loss: 20.6778 - player_0_loss: 19.6557 - player_0_yfake_loss: 5.7824 - player_0_yreal_loss: 12.9045 - player_1_loss: 1.0221 - player_1_yfake_loss: 0.0201 - player_1_yreal_loss: 0.0332\n",
      "Epoch 27/100\n",
      "49000/49000 [==============================] - 28s 562us/step - loss: 20.9097 - player_0_loss: 19.8736 - player_0_yfake_loss: 6.1456 - player_0_yreal_loss: 12.7431 - player_1_loss: 1.0361 - player_1_yfake_loss: 0.0191 - player_1_yreal_loss: 0.0322\n",
      "Epoch 28/100\n",
      "49000/49000 [==============================] - 28s 570us/step - loss: 20.5619 - player_0_loss: 19.4999 - player_0_yfake_loss: 5.7684 - player_0_yreal_loss: 12.7159 - player_1_loss: 1.0620 - player_1_yfake_loss: 0.0173 - player_1_yreal_loss: 0.0292\n",
      "Epoch 29/100\n",
      "49000/49000 [==============================] - 30s 614us/step - loss: 19.8418 - player_0_loss: 18.7599 - player_0_yfake_loss: 5.6649 - player_0_yreal_loss: 12.0675 - player_1_loss: 1.0819 - player_1_yfake_loss: 0.0207 - player_1_yreal_loss: 0.0337\n",
      "Epoch 30/100\n",
      "49000/49000 [==============================] - 31s 626us/step - loss: 19.3011 - player_0_loss: 18.2077 - player_0_yfake_loss: 5.1655 - player_0_yreal_loss: 12.0154 - player_1_loss: 1.0935 - player_1_yfake_loss: 0.0255 - player_1_yreal_loss: 0.0412\n",
      "Epoch 31/100\n"
     ]
    },
    {
     "name": "stdout",
     "output_type": "stream",
     "text": [
      "49000/49000 [==============================] - 28s 580us/step - loss: 20.6007 - player_0_loss: 19.5040 - player_0_yfake_loss: 5.9021 - player_0_yreal_loss: 12.5726 - player_1_loss: 1.0968 - player_1_yfake_loss: 0.0250 - player_1_yreal_loss: 0.0425\n",
      "Epoch 32/100\n",
      "49000/49000 [==============================] - 29s 587us/step - loss: 21.2130 - player_0_loss: 20.0801 - player_0_yfake_loss: 6.6159 - player_0_yreal_loss: 12.3977 - player_1_loss: 1.1329 - player_1_yfake_loss: 0.0254 - player_1_yreal_loss: 0.0409\n",
      "Epoch 33/100\n",
      "49000/49000 [==============================] - 29s 602us/step - loss: 20.1055 - player_0_loss: 18.9472 - player_0_yfake_loss: 5.6181 - player_0_yreal_loss: 12.2376 - player_1_loss: 1.1583 - player_1_yfake_loss: 0.0258 - player_1_yreal_loss: 0.0409\n",
      "Epoch 34/100\n",
      "49000/49000 [==============================] - 29s 599us/step - loss: 20.0066 - player_0_loss: 18.8276 - player_0_yfake_loss: 5.5954 - player_0_yreal_loss: 12.1329 - player_1_loss: 1.1790 - player_1_yfake_loss: 0.0306 - player_1_yreal_loss: 0.0491\n",
      "Epoch 35/100\n",
      "49000/49000 [==============================] - 29s 582us/step - loss: 20.0069 - player_0_loss: 18.8229 - player_0_yfake_loss: 5.5041 - player_0_yreal_loss: 12.2124 - player_1_loss: 1.1841 - player_1_yfake_loss: 0.0287 - player_1_yreal_loss: 0.0490s - loss: 20.0463 - player_0_loss: 18.8614 - player_0_yfake_loss: 5.5056 - player_0_yreal_loss: 12.2496 - player_1_loss: \n",
      "Epoch 36/100\n",
      "49000/49000 [==============================] - 28s 570us/step - loss: 20.4446 - player_0_loss: 19.2336 - player_0_yfake_loss: 5.9420 - player_0_yreal_loss: 12.1613 - player_1_loss: 1.2111 - player_1_yfake_loss: 0.0315 - player_1_yreal_loss: 0.0493\n",
      "Epoch 37/100\n",
      "49000/49000 [==============================] - 30s 604us/step - loss: 20.0588 - player_0_loss: 18.8489 - player_0_yfake_loss: 5.6295 - player_0_yreal_loss: 12.0877 - player_1_loss: 1.2099 - player_1_yfake_loss: 0.0300 - player_1_yreal_loss: 0.0482\n",
      "Epoch 38/100\n",
      "49000/49000 [==============================] - 28s 580us/step - loss: 19.7317 - player_0_loss: 18.4961 - player_0_yfake_loss: 5.5860 - player_0_yreal_loss: 11.7652 - player_1_loss: 1.2356 - player_1_yfake_loss: 0.0343 - player_1_yreal_loss: 0.0564\n",
      "Epoch 39/100\n",
      "49000/49000 [==============================] - 28s 579us/step - loss: 19.3056 - player_0_loss: 18.0452 - player_0_yfake_loss: 5.3446 - player_0_yreal_loss: 11.5471 - player_1_loss: 1.2604 - player_1_yfake_loss: 0.0407 - player_1_yreal_loss: 0.0663\n",
      "Epoch 40/100\n",
      "49000/49000 [==============================] - 28s 562us/step - loss: 19.5037 - player_0_loss: 18.2540 - player_0_yfake_loss: 5.1751 - player_0_yreal_loss: 11.9163 - player_1_loss: 1.2497 - player_1_yfake_loss: 0.0326 - player_1_yreal_loss: 0.0545\n",
      "Epoch 41/100\n",
      "49000/49000 [==============================] - 28s 572us/step - loss: 19.5434 - player_0_loss: 18.2825 - player_0_yfake_loss: 5.0498 - player_0_yreal_loss: 12.0555 - player_1_loss: 1.2609 - player_1_yfake_loss: 0.0330 - player_1_yreal_loss: 0.0508\n",
      "Epoch 42/100\n",
      "49000/49000 [==============================] - 28s 562us/step - loss: 19.5920 - player_0_loss: 18.3426 - player_0_yfake_loss: 5.2551 - player_0_yreal_loss: 11.9303 - player_1_loss: 1.2494 - player_1_yfake_loss: 0.0345 - player_1_yreal_loss: 0.0576\n",
      "Epoch 43/100\n",
      "49000/49000 [==============================] - 28s 571us/step - loss: 19.0482 - player_0_loss: 17.7934 - player_0_yfake_loss: 5.0502 - player_0_yreal_loss: 11.5741 - player_1_loss: 1.2548 - player_1_yfake_loss: 0.0329 - player_1_yreal_loss: 0.0529\n",
      "Epoch 44/100\n",
      "49000/49000 [==============================] - 30s 603us/step - loss: 19.4855 - player_0_loss: 18.2269 - player_0_yfake_loss: 5.1488 - player_0_yreal_loss: 11.9059 - player_1_loss: 1.2586 - player_1_yfake_loss: 0.0334 - player_1_yreal_loss: 0.0531\n",
      "Epoch 45/100\n",
      "49000/49000 [==============================] - 30s 612us/step - loss: 20.0200 - player_0_loss: 18.7364 - player_0_yfake_loss: 5.7917 - player_0_yreal_loss: 11.7472 - player_1_loss: 1.2836 - player_1_yfake_loss: 0.0310 - player_1_yreal_loss: 0.0551\n",
      "Epoch 46/100\n",
      "49000/49000 [==============================] - 28s 580us/step - loss: 19.8521 - player_0_loss: 18.5669 - player_0_yfake_loss: 5.5704 - player_0_yreal_loss: 11.7907 - player_1_loss: 1.2853 - player_1_yfake_loss: 0.0311 - player_1_yreal_loss: 0.0484\n",
      "Epoch 47/100\n",
      "49000/49000 [==============================] - 31s 641us/step - loss: 19.3588 - player_0_loss: 18.0349 - player_0_yfake_loss: 5.4889 - player_0_yreal_loss: 11.3118 - player_1_loss: 1.3239 - player_1_yfake_loss: 0.0356 - player_1_yreal_loss: 0.0541\n",
      "Epoch 48/100\n",
      "49000/49000 [==============================] - 32s 645us/step - loss: 19.1340 - player_0_loss: 17.7873 - player_0_yfake_loss: 5.3452 - player_0_yreal_loss: 11.1954 - player_1_loss: 1.3467 - player_1_yfake_loss: 0.0382 - player_1_yreal_loss: 0.0618\n",
      "Epoch 49/100\n",
      "49000/49000 [==============================] - 30s 604us/step - loss: 19.3270 - player_0_loss: 17.9867 - player_0_yfake_loss: 5.3164 - player_0_yreal_loss: 11.4224 - player_1_loss: 1.3403 - player_1_yfake_loss: 0.0345 - player_1_yreal_loss: 0.0579\n",
      "Epoch 50/100\n",
      "49000/49000 [==============================] - 27s 552us/step - loss: 18.5083 - player_0_loss: 17.1452 - player_0_yfake_loss: 5.0248 - player_0_yreal_loss: 10.8680 - player_1_loss: 1.3630 - player_1_yfake_loss: 0.0450 - player_1_yreal_loss: 0.0656\n",
      "Epoch 51/100\n",
      "49000/49000 [==============================] - 28s 578us/step - loss: 18.5579 - player_0_loss: 17.2149 - player_0_yfake_loss: 5.1211 - player_0_yreal_loss: 10.8537 - player_1_loss: 1.3430 - player_1_yfake_loss: 0.0403 - player_1_yreal_loss: 0.0626\n",
      "Epoch 52/100\n",
      "49000/49000 [==============================] - 32s 643us/step - loss: 18.7120 - player_0_loss: 17.3620 - player_0_yfake_loss: 5.0306 - player_0_yreal_loss: 11.0955 - player_1_loss: 1.3500 - player_1_yfake_loss: 0.0454 - player_1_yreal_loss: 0.0687\n",
      "Epoch 53/100\n",
      "49000/49000 [==============================] - 32s 652us/step - loss: 18.8830 - player_0_loss: 17.5194 - player_0_yfake_loss: 5.0877 - player_0_yreal_loss: 11.1721 - player_1_loss: 1.3637 - player_1_yfake_loss: 0.0391 - player_1_yreal_loss: 0.0650\n",
      "Epoch 54/100\n",
      "49000/49000 [==============================] - 31s 627us/step - loss: 19.3294 - player_0_loss: 17.9638 - player_0_yfake_loss: 5.1311 - player_0_yreal_loss: 11.5576 - player_1_loss: 1.3656 - player_1_yfake_loss: 0.0358 - player_1_yreal_loss: 0.0546\n",
      "Epoch 55/100\n",
      "49000/49000 [==============================] - 31s 629us/step - loss: 19.3850 - player_0_loss: 18.0016 - player_0_yfake_loss: 5.0043 - player_0_yreal_loss: 11.7177 - player_1_loss: 1.3833 - player_1_yfake_loss: 0.0394 - player_1_yreal_loss: 0.0643\n",
      "Epoch 56/100\n",
      "49000/49000 [==============================] - 32s 657us/step - loss: 19.0321 - player_0_loss: 17.6526 - player_0_yfake_loss: 4.8565 - player_0_yreal_loss: 11.5299 - player_1_loss: 1.3795 - player_1_yfake_loss: 0.0436 - player_1_yreal_loss: 0.0696\n",
      "Epoch 57/100\n",
      "49000/49000 [==============================] - 33s 667us/step - loss: 18.5764 - player_0_loss: 17.2037 - player_0_yfake_loss: 4.7744 - player_0_yreal_loss: 11.1698 - player_1_loss: 1.3727 - player_1_yfake_loss: 0.0439 - player_1_yreal_loss: 0.0693\n",
      "Epoch 58/100\n",
      "49000/49000 [==============================] - 32s 643us/step - loss: 17.7736 - player_0_loss: 16.3661 - player_0_yfake_loss: 4.7673 - player_0_yreal_loss: 10.3208 - player_1_loss: 1.4075 - player_1_yfake_loss: 0.0521 - player_1_yreal_loss: 0.0775\n",
      "Epoch 59/100\n",
      "49000/49000 [==============================] - 31s 635us/step - loss: 19.9599 - player_0_loss: 18.5390 - player_0_yfake_loss: 5.5269 - player_0_yreal_loss: 11.7150 - player_1_loss: 1.4209 - player_1_yfake_loss: 0.0463 - player_1_yreal_loss: 0.0775\n",
      "Epoch 60/100\n",
      "49000/49000 [==============================] - 31s 634us/step - loss: 18.8926 - player_0_loss: 17.4631 - player_0_yfake_loss: 5.0462 - player_0_yreal_loss: 11.1131 - player_1_loss: 1.4295 - player_1_yfake_loss: 0.0496 - player_1_yreal_loss: 0.0761\n",
      "Epoch 61/100\n",
      "49000/49000 [==============================] - 31s 629us/step - loss: 19.3304 - player_0_loss: 17.9139 - player_0_yfake_loss: 5.2961 - player_0_yreal_loss: 11.3188 - player_1_loss: 1.4165 - player_1_yfake_loss: 0.0453 - player_1_yreal_loss: 0.0722\n"
     ]
    },
    {
     "name": "stdout",
     "output_type": "stream",
     "text": [
      "Epoch 62/100\n",
      "49000/49000 [==============================] - 31s 635us/step - loss: 18.3940 - player_0_loss: 16.9758 - player_0_yfake_loss: 4.8960 - player_0_yreal_loss: 10.7815 - player_1_loss: 1.4182 - player_1_yfake_loss: 0.0494 - player_1_yreal_loss: 0.0706\n",
      "Epoch 63/100\n",
      "49000/49000 [==============================] - 30s 607us/step - loss: 18.7065 - player_0_loss: 17.2660 - player_0_yfake_loss: 4.9217 - player_0_yreal_loss: 11.0306 - player_1_loss: 1.4405 - player_1_yfake_loss: 0.0492 - player_1_yreal_loss: 0.0776\n",
      "Epoch 64/100\n",
      "49000/49000 [==============================] - 31s 634us/step - loss: 18.4878 - player_0_loss: 17.0497 - player_0_yfake_loss: 4.8771 - player_0_yreal_loss: 10.8694 - player_1_loss: 1.4381 - player_1_yfake_loss: 0.0542 - player_1_yreal_loss: 0.0807\n",
      "Epoch 65/100\n",
      "49000/49000 [==============================] - 30s 621us/step - loss: 18.3629 - player_0_loss: 16.9094 - player_0_yfake_loss: 5.0792 - player_0_yreal_loss: 10.5175 - player_1_loss: 1.4535 - player_1_yfake_loss: 0.0564 - player_1_yreal_loss: 0.0844\n",
      "Epoch 66/100\n",
      "49000/49000 [==============================] - 30s 610us/step - loss: 18.1854 - player_0_loss: 16.7271 - player_0_yfake_loss: 4.7799 - player_0_yreal_loss: 10.6307 - player_1_loss: 1.4582 - player_1_yfake_loss: 0.0566 - player_1_yreal_loss: 0.0851\n",
      "Epoch 67/100\n",
      "49000/49000 [==============================] - 29s 584us/step - loss: 17.6864 - player_0_loss: 16.1997 - player_0_yfake_loss: 4.6596 - player_0_yreal_loss: 10.2164 - player_1_loss: 1.4867 - player_1_yfake_loss: 0.0654 - player_1_yreal_loss: 0.0976\n",
      "Epoch 68/100\n",
      "49000/49000 [==============================] - 29s 592us/step - loss: 18.2303 - player_0_loss: 16.7569 - player_0_yfake_loss: 4.7254 - player_0_yreal_loss: 10.7026 - player_1_loss: 1.4734 - player_1_yfake_loss: 0.0551 - player_1_yreal_loss: 0.0894\n",
      "Epoch 69/100\n",
      "49000/49000 [==============================] - 31s 623us/step - loss: 18.5418 - player_0_loss: 17.0570 - player_0_yfake_loss: 5.0729 - player_0_yreal_loss: 10.6407 - player_1_loss: 1.4848 - player_1_yfake_loss: 0.0557 - player_1_yreal_loss: 0.0856\n",
      "Epoch 70/100\n",
      "49000/49000 [==============================] - 30s 621us/step - loss: 18.9275 - player_0_loss: 17.4237 - player_0_yfake_loss: 5.3216 - player_0_yreal_loss: 10.7341 - player_1_loss: 1.5038 - player_1_yfake_loss: 0.0538 - player_1_yreal_loss: 0.0820\n",
      "Epoch 71/100\n",
      "49000/49000 [==============================] - 30s 617us/step - loss: 18.3531 - player_0_loss: 16.8427 - player_0_yfake_loss: 5.0698 - player_0_yreal_loss: 10.3918 - player_1_loss: 1.5104 - player_1_yfake_loss: 0.0533 - player_1_yreal_loss: 0.0760\n",
      "Epoch 72/100\n",
      "49000/49000 [==============================] - 30s 620us/step - loss: 17.1549 - player_0_loss: 15.6386 - player_0_yfake_loss: 4.4455 - player_0_yreal_loss: 9.8266 - player_1_loss: 1.5163 - player_1_yfake_loss: 0.0616 - player_1_yreal_loss: 0.0881\n",
      "Epoch 73/100\n",
      "49000/49000 [==============================] - 29s 601us/step - loss: 17.5053 - player_0_loss: 16.0116 - player_0_yfake_loss: 4.4226 - player_0_yreal_loss: 10.2384 - player_1_loss: 1.4937 - player_1_yfake_loss: 0.0584 - player_1_yreal_loss: 0.0847\n",
      "Epoch 74/100\n",
      "49000/49000 [==============================] - 29s 590us/step - loss: 17.6111 - player_0_loss: 16.0878 - player_0_yfake_loss: 4.6704 - player_0_yreal_loss: 10.0599 - player_1_loss: 1.5233 - player_1_yfake_loss: 0.0656 - player_1_yreal_loss: 0.1002\n",
      "Epoch 75/100\n",
      "49000/49000 [==============================] - 31s 626us/step - loss: 17.9761 - player_0_loss: 16.4796 - player_0_yfake_loss: 4.5311 - player_0_yreal_loss: 10.5996 - player_1_loss: 1.4966 - player_1_yfake_loss: 0.0581 - player_1_yreal_loss: 0.0897\n",
      "Epoch 76/100\n",
      "49000/49000 [==============================] - 30s 613us/step - loss: 18.2919 - player_0_loss: 16.8164 - player_0_yfake_loss: 4.7528 - player_0_yreal_loss: 10.7267 - player_1_loss: 1.4755 - player_1_yfake_loss: 0.0531 - player_1_yreal_loss: 0.0854\n",
      "Epoch 77/100\n",
      "49000/49000 [==============================] - 30s 618us/step - loss: 17.7895 - player_0_loss: 16.3157 - player_0_yfake_loss: 4.5051 - player_0_yreal_loss: 10.4805 - player_1_loss: 1.4737 - player_1_yfake_loss: 0.0573 - player_1_yreal_loss: 0.0862\n",
      "Epoch 78/100\n",
      "49000/49000 [==============================] - 32s 661us/step - loss: 18.4828 - player_0_loss: 16.9990 - player_0_yfake_loss: 4.8021 - player_0_yreal_loss: 10.8673 - player_1_loss: 1.4838 - player_1_yfake_loss: 0.0595 - player_1_yreal_loss: 0.0948\n",
      "Epoch 79/100\n",
      "49000/49000 [==============================] - 32s 647us/step - loss: 18.1189 - player_0_loss: 16.6430 - player_0_yfake_loss: 4.6280 - player_0_yreal_loss: 10.7008 - player_1_loss: 1.4759 - player_1_yfake_loss: 0.0635 - player_1_yreal_loss: 0.0982\n",
      "Epoch 80/100\n",
      "49000/49000 [==============================] - 31s 627us/step - loss: 17.5059 - player_0_loss: 16.0303 - player_0_yfake_loss: 4.5582 - player_0_yreal_loss: 10.1552 - player_1_loss: 1.4757 - player_1_yfake_loss: 0.0656 - player_1_yreal_loss: 0.0932\n",
      "Epoch 81/100\n",
      "49000/49000 [==============================] - 32s 647us/step - loss: 17.3353 - player_0_loss: 15.8472 - player_0_yfake_loss: 4.3665 - player_0_yreal_loss: 10.1741 - player_1_loss: 1.4880 - player_1_yfake_loss: 0.0719 - player_1_yreal_loss: 0.1095\n",
      "Epoch 82/100\n",
      "49000/49000 [==============================] - 31s 629us/step - loss: 17.1585 - player_0_loss: 15.6754 - player_0_yfake_loss: 4.0753 - player_0_yreal_loss: 10.3030 - player_1_loss: 1.4831 - player_1_yfake_loss: 0.0724 - player_1_yreal_loss: 0.1136\n",
      "Epoch 83/100\n",
      "49000/49000 [==============================] - 29s 592us/step - loss: 17.9330 - player_0_loss: 16.4737 - player_0_yfake_loss: 4.3632 - player_0_yreal_loss: 10.8279 - player_1_loss: 1.4593 - player_1_yfake_loss: 0.0684 - player_1_yreal_loss: 0.1083\n",
      "Epoch 84/100\n",
      "49000/49000 [==============================] - 30s 617us/step - loss: 17.7310 - player_0_loss: 16.2770 - player_0_yfake_loss: 4.4279 - player_0_yreal_loss: 10.5646 - player_1_loss: 1.4540 - player_1_yfake_loss: 0.0674 - player_1_yreal_loss: 0.1021\n",
      "Epoch 85/100\n",
      "49000/49000 [==============================] - 28s 575us/step - loss: 17.3233 - player_0_loss: 15.8588 - player_0_yfake_loss: 4.2893 - player_0_yreal_loss: 10.2925 - player_1_loss: 1.4646 - player_1_yfake_loss: 0.0750 - player_1_yreal_loss: 0.1126s - loss: 17.3240 - player_0_loss: 15.8599 - player_0_yfake_loss: 4.3027 - player_0_yreal_loss: 10.2801 - playe\n",
      "Epoch 86/100\n",
      "49000/49000 [==============================] - 30s 604us/step - loss: 16.5926 - player_0_loss: 15.1260 - player_0_yfake_loss: 4.0811 - player_0_yreal_loss: 9.7728 - player_1_loss: 1.4665 - player_1_yfake_loss: 0.0770 - player_1_yreal_loss: 0.1174\n",
      "Epoch 87/100\n",
      "49000/49000 [==============================] - 31s 631us/step - loss: 17.2587 - player_0_loss: 15.8181 - player_0_yfake_loss: 4.2697 - player_0_yreal_loss: 10.2810 - player_1_loss: 1.4406 - player_1_yfake_loss: 0.0681 - player_1_yreal_loss: 0.1051\n",
      "Epoch 88/100\n",
      "49000/49000 [==============================] - 32s 650us/step - loss: 16.3378 - player_0_loss: 14.8782 - player_0_yfake_loss: 4.0770 - player_0_yreal_loss: 9.5406 - player_1_loss: 1.4595 - player_1_yfake_loss: 0.0802 - player_1_yreal_loss: 0.1187\n",
      "Epoch 89/100\n",
      "49000/49000 [==============================] - 30s 614us/step - loss: 17.2781 - player_0_loss: 15.8336 - player_0_yfake_loss: 4.4159 - player_0_yreal_loss: 10.1504 - player_1_loss: 1.4445 - player_1_yfake_loss: 0.0710 - player_1_yreal_loss: 0.1061\n",
      "Epoch 90/100\n",
      "49000/49000 [==============================] - 29s 587us/step - loss: 17.0053 - player_0_loss: 15.5474 - player_0_yfake_loss: 4.1864 - player_0_yreal_loss: 10.0842 - player_1_loss: 1.4578 - player_1_yfake_loss: 0.0738 - player_1_yreal_loss: 0.1072\n",
      "Epoch 91/100\n",
      "49000/49000 [==============================] - 29s 592us/step - loss: 16.5832 - player_0_loss: 15.1210 - player_0_yfake_loss: 4.1161 - player_0_yreal_loss: 9.7348 - player_1_loss: 1.4622 - player_1_yfake_loss: 0.0798 - player_1_yreal_loss: 0.1123\n",
      "Epoch 92/100\n",
      "49000/49000 [==============================] - 30s 610us/step - loss: 16.1740 - player_0_loss: 14.6968 - player_0_yfake_loss: 4.1200 - player_0_yreal_loss: 9.3118 - player_1_loss: 1.4772 - player_1_yfake_loss: 0.0845 - player_1_yreal_loss: 0.1278\n"
     ]
    },
    {
     "name": "stdout",
     "output_type": "stream",
     "text": [
      "Epoch 93/100\n",
      "49000/49000 [==============================] - 27s 557us/step - loss: 16.2786 - player_0_loss: 14.8273 - player_0_yfake_loss: 4.0835 - player_0_yreal_loss: 9.4848 - player_1_loss: 1.4513 - player_1_yfake_loss: 0.0799 - player_1_yreal_loss: 0.1124\n",
      "Epoch 94/100\n",
      "49000/49000 [==============================] - 27s 550us/step - loss: 15.6391 - player_0_loss: 14.1639 - player_0_yfake_loss: 3.9547 - player_0_yreal_loss: 8.9580 - player_1_loss: 1.4753 - player_1_yfake_loss: 0.0910 - player_1_yreal_loss: 0.133217s - loss: 15.469\n",
      "Epoch 95/100\n",
      "49000/49000 [==============================] - 28s 569us/step - loss: 16.0287 - player_0_loss: 14.5564 - player_0_yfake_loss: 3.9973 - player_0_yreal_loss: 9.2978 - player_1_loss: 1.4723 - player_1_yfake_loss: 0.0860 - player_1_yreal_loss: 0.1250\n",
      "Epoch 96/100\n",
      "49000/49000 [==============================] - 28s 580us/step - loss: 15.8405 - player_0_loss: 14.3731 - player_0_yfake_loss: 3.8927 - player_0_yreal_loss: 9.2338 - player_1_loss: 1.4674 - player_1_yfake_loss: 0.0894 - player_1_yreal_loss: 0.1313\n",
      "Epoch 97/100\n",
      "49000/49000 [==============================] - 29s 596us/step - loss: 16.4137 - player_0_loss: 14.9819 - player_0_yfake_loss: 4.1396 - player_0_yreal_loss: 9.6047 - player_1_loss: 1.4318 - player_1_yfake_loss: 0.0791 - player_1_yreal_loss: 0.1152\n",
      "Epoch 98/100\n",
      "49000/49000 [==============================] - 29s 599us/step - loss: 16.0982 - player_0_loss: 14.6281 - player_0_yfake_loss: 4.0346 - player_0_yreal_loss: 9.3496 - player_1_loss: 1.4701 - player_1_yfake_loss: 0.0897 - player_1_yreal_loss: 0.1365\n",
      "Epoch 99/100\n",
      "49000/49000 [==============================] - 28s 578us/step - loss: 15.8566 - player_0_loss: 14.3852 - player_0_yfake_loss: 4.0258 - player_0_yreal_loss: 9.1074 - player_1_loss: 1.4714 - player_1_yfake_loss: 0.0904 - player_1_yreal_loss: 0.1290\n",
      "Epoch 100/100\n",
      "49000/49000 [==============================] - 28s 575us/step - loss: 15.7288 - player_0_loss: 14.2604 - player_0_yfake_loss: 3.9992 - player_0_yreal_loss: 9.0090 - player_1_loss: 1.4683 - player_1_yfake_loss: 0.0884 - player_1_yreal_loss: 0.1277\n"
     ]
    }
   ],
   "source": [
    "#compile and start training\n",
    "\n",
    "#building a combined model\n",
    "gan = simple_gan(model_1, model_2, normal_latent_sampling((100,)))\n",
    "\n",
    "model = AdversarialModel(base_model=gan, player_params=[model_1.trainable_weights, model_2.trainable_weights])\n",
    "model.adversarial_compile(adversarial_optimizer=AdversarialOptimizerSimultaneous(), player_optimizers=['adam', 'adam'], loss='binary_crossentropy')\n",
    "\n",
    "history = model.fit(x=train_x, y=gan_targets(train_x.shape[0]), epochs=100, batch_size=batch_size)"
   ]
  },
  {
   "cell_type": "code",
   "execution_count": 14,
   "metadata": {},
   "outputs": [
    {
     "data": {
      "image/png": "[encoded data removed]",
      "text/plain": [
       "<matplotlib.figure.Figure at 0x2002d669438>"
      ]
     },
     "metadata": {},
     "output_type": "display_data"
    },
    {
     "data": {
      "image/png": "[encoded data removed]",
      "text/plain": [
       "<matplotlib.figure.Figure at 0x2003fb34240>"
      ]
     },
     "metadata": {},
     "output_type": "display_data"
    },
    {
     "data": {
      "image/png": "[encoded data removed]",
      "text/plain": [
       "<matplotlib.figure.Figure at 0x200403b9c50>"
      ]
     },
     "metadata": {},
     "output_type": "display_data"
    },
    {
     "data": {
      "image/png": "[encoded data removed]",
      "text/plain": [
       "<matplotlib.figure.Figure at 0x2003fbb02b0>"
      ]
     },
     "metadata": {},
     "output_type": "display_data"
    },
    {
     "data": {
      "image/png": "[encoded data removed]",
      "text/plain": [
       "<matplotlib.figure.Figure at 0x2003fc2eba8>"
      ]
     },
     "metadata": {},
     "output_type": "display_data"
    },
    {
     "data": {
      "image/png": "[encoded data removed]",
      "text/plain": [
       "<matplotlib.figure.Figure at 0x2003fb6a3c8>"
      ]
     },
     "metadata": {},
     "output_type": "display_data"
    },
    {
     "data": {
      "image/png": "[encoded data removed]",
      "text/plain": [
       "<matplotlib.figure.Figure at 0x200402e2d30>"
      ]
     },
     "metadata": {},
     "output_type": "display_data"
    },
    {
     "data": {
      "image/png": "[encoded data removed]",
      "text/plain": [
       "<matplotlib.figure.Figure at 0x2003fbe06d8>"
      ]
     },
     "metadata": {},
     "output_type": "display_data"
    },
    {
     "data": {
      "image/png": "[encoded data removed]",
      "text/plain": [
       "<matplotlib.figure.Figure at 0x2003fc154a8>"
      ]
     },
     "metadata": {},
     "output_type": "display_data"
    },
    {
     "data": {
      "image/png": "[encoded data removed]",
      "text/plain": [
       "<matplotlib.figure.Figure at 0x200402d0b70>"
      ]
     },
     "metadata": {},
     "output_type": "display_data"
    }
   ],
   "source": [
    "# let's see some generated images\n",
    "zsamples = np.random.normal(size=(10, 100))\n",
    "pred = model_1.predict(zsamples)\n",
    "for i in range(pred.shape[0]):\n",
    "    plt.imshow(pred[i, :], cmap='gray')\n",
    "    plt.show()"
   ]
  },
  {
   "cell_type": "code",
   "execution_count": null,
   "metadata": {},
   "outputs": [],
   "source": []
  }
 ],
 "metadata": {
  "kernelspec": {
   "display_name": "Python 3",
   "language": "python",
   "name": "python3"
  },
  "language_info": {
   "codemirror_mode": {
    "name": "ipython",
    "version": 3
   },
   "file_extension": ".py",
   "mimetype": "text/x-python",
   "name": "python",
   "nbconvert_exporter": "python",
   "pygments_lexer": "ipython3",
   "version": "3.5.2"
  }
 },
 "nbformat": 4,
 "nbformat_minor": 2
}
